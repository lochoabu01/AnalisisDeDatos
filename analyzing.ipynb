{
 "cells": [
  {
   "cell_type": "code",
   "execution_count": 1,
   "metadata": {},
   "outputs": [],
   "source": [
    "# Tema: Comparendos Norte de Santander 2016 - 2020\n",
    "# Grupo 1: Angie Moreno/202110008171 - Diego Vargas/202110047171 - Luis Ochoa/202519024507\n",
    "\n",
    "# Importamos la libreria Pandas\n",
    "import pandas as pd"
   ]
  },
  {
   "cell_type": "code",
   "execution_count": 2,
   "metadata": {},
   "outputs": [],
   "source": [
    "# Cargamos el CSV a un DataFrame (df)\n",
    "df = pd.read_csv(\"ComparendosNorteSantanderSource.csv\")"
   ]
  },
  {
   "cell_type": "code",
   "execution_count": null,
   "metadata": {},
   "outputs": [
    {
     "data": {
      "text/plain": [
       "(25042, 7)"
      ]
     },
     "execution_count": 3,
     "metadata": {},
     "output_type": "execute_result"
    }
   ],
   "source": [
    "# Retornamos una tupla con las dimensiones de nuestro DataFrame.\n",
    "# (cantidad de filas incluyendo encabezados, cantidad de columnas)\n",
    "df.shape"
   ]
  },
  {
   "cell_type": "code",
   "execution_count": 4,
   "metadata": {},
   "outputs": [
    {
     "name": "stdout",
     "output_type": "stream",
     "text": [
      "<class 'pandas.core.frame.DataFrame'>\n",
      "RangeIndex: 25042 entries, 0 to 25041\n",
      "Data columns (total 7 columns):\n",
      " #   Column             Non-Null Count  Dtype  \n",
      "---  ------             --------------  -----  \n",
      " 0   COMPARENDO         25042 non-null  object \n",
      " 1   FECHA              25041 non-null  object \n",
      " 2   CÓDIGO INFRACCIÓN  25041 non-null  object \n",
      " 3   INFRACCION         25041 non-null  object \n",
      " 4   LUGAR              25041 non-null  object \n",
      " 5   CLASE VEHICULO     25031 non-null  object \n",
      " 6   VALOR              25041 non-null  float64\n",
      "dtypes: float64(1), object(6)\n",
      "memory usage: 1.3+ MB\n"
     ]
    }
   ],
   "source": [
    "# Mostramos la informacion de nuestro DataFrame\n",
    "df.info()"
   ]
  },
  {
   "cell_type": "code",
   "execution_count": null,
   "metadata": {},
   "outputs": [
    {
     "data": {
      "text/html": [
       "<div>\n",
       "<style scoped>\n",
       "    .dataframe tbody tr th:only-of-type {\n",
       "        vertical-align: middle;\n",
       "    }\n",
       "\n",
       "    .dataframe tbody tr th {\n",
       "        vertical-align: top;\n",
       "    }\n",
       "\n",
       "    .dataframe thead th {\n",
       "        text-align: right;\n",
       "    }\n",
       "</style>\n",
       "<table border=\"1\" class=\"dataframe\">\n",
       "  <thead>\n",
       "    <tr style=\"text-align: right;\">\n",
       "      <th></th>\n",
       "      <th>COMPARENDO</th>\n",
       "      <th>FECHA</th>\n",
       "      <th>CÓDIGO INFRACCIÓN</th>\n",
       "      <th>INFRACCION</th>\n",
       "      <th>LUGAR</th>\n",
       "      <th>CLASE VEHICULO</th>\n",
       "      <th>VALOR</th>\n",
       "    </tr>\n",
       "  </thead>\n",
       "  <tbody>\n",
       "    <tr>\n",
       "      <th>0</th>\n",
       "      <td>9223372036854775807</td>\n",
       "      <td>18/09/2016</td>\n",
       "      <td>B02</td>\n",
       "      <td>Conducir un vehículo con la licencia de conduc...</td>\n",
       "      <td>SARDINATA-CUCUTA KM 58</td>\n",
       "      <td>AUTOMOVIL</td>\n",
       "      <td>183854.0</td>\n",
       "    </tr>\n",
       "    <tr>\n",
       "      <th>1</th>\n",
       "      <td>9223372036854775807</td>\n",
       "      <td>20/11/2016</td>\n",
       "      <td>C24</td>\n",
       "      <td>Conducir motocicleta sin observar las normas e...</td>\n",
       "      <td>VIA 7009 KM 72</td>\n",
       "      <td>MOTOCICLETA</td>\n",
       "      <td>344727.0</td>\n",
       "    </tr>\n",
       "    <tr>\n",
       "      <th>2</th>\n",
       "      <td>9223372036854775807</td>\n",
       "      <td>22/04/2016</td>\n",
       "      <td>B02</td>\n",
       "      <td>Conducir un vehículo con la licencia de conduc...</td>\n",
       "      <td>OCAÑA SARDINATA KM 31 600</td>\n",
       "      <td>AUTOMOVIL</td>\n",
       "      <td>183855.0</td>\n",
       "    </tr>\n",
       "    <tr>\n",
       "      <th>3</th>\n",
       "      <td>9223372036854775807</td>\n",
       "      <td>7/05/2016</td>\n",
       "      <td>B02</td>\n",
       "      <td>Conducir un vehículo con la licencia de conduc...</td>\n",
       "      <td>BMANGA PAMPLONA KM 88</td>\n",
       "      <td>CAMIONETA</td>\n",
       "      <td>183855.0</td>\n",
       "    </tr>\n",
       "    <tr>\n",
       "      <th>4</th>\n",
       "      <td>9223372036854775807</td>\n",
       "      <td>25/03/2016</td>\n",
       "      <td>B02</td>\n",
       "      <td>Conducir un vehículo con la licencia de conduc...</td>\n",
       "      <td>BMANGA PAMPLONA KM 88</td>\n",
       "      <td>CAMIONETA</td>\n",
       "      <td>183855.0</td>\n",
       "    </tr>\n",
       "    <tr>\n",
       "      <th>...</th>\n",
       "      <td>...</td>\n",
       "      <td>...</td>\n",
       "      <td>...</td>\n",
       "      <td>...</td>\n",
       "      <td>...</td>\n",
       "      <td>...</td>\n",
       "      <td>...</td>\n",
       "    </tr>\n",
       "    <tr>\n",
       "      <th>25037</th>\n",
       "      <td>99999999000004686217</td>\n",
       "      <td>11/12/2020</td>\n",
       "      <td>C35</td>\n",
       "      <td>No realizar la revisión técnico-mecánica en el...</td>\n",
       "      <td>SARDINATA CUCUTA KM 58 30</td>\n",
       "      <td>BUS</td>\n",
       "      <td>438902.0</td>\n",
       "    </tr>\n",
       "    <tr>\n",
       "      <th>25038</th>\n",
       "      <td>99999999000004686218</td>\n",
       "      <td>12/12/2020</td>\n",
       "      <td>C35</td>\n",
       "      <td>No realizar la revisión técnico-mecánica en el...</td>\n",
       "      <td>VIA SARDINATA CUCUTA KM 58 300</td>\n",
       "      <td>BUSETA</td>\n",
       "      <td>438902.0</td>\n",
       "    </tr>\n",
       "    <tr>\n",
       "      <th>25039</th>\n",
       "      <td>9999999900004048638</td>\n",
       "      <td>08/12/2019</td>\n",
       "      <td>C14</td>\n",
       "      <td>Transitar por los siguientes sitios restringid...</td>\n",
       "      <td>SARDINATA CUCUTA KM 58 300</td>\n",
       "      <td>VOLQUETA</td>\n",
       "      <td>414058.0</td>\n",
       "    </tr>\n",
       "    <tr>\n",
       "      <th>25040</th>\n",
       "      <td>99999999900000301038</td>\n",
       "      <td>13/01/2018</td>\n",
       "      <td>D02</td>\n",
       "      <td>Conducir sin portar el Seguro Obligatorio de A...</td>\n",
       "      <td>SARDINATA CUCUTA KM 58 300</td>\n",
       "      <td>MOTOCICLETA</td>\n",
       "      <td>781242.0</td>\n",
       "    </tr>\n",
       "    <tr>\n",
       "      <th>25041</th>\n",
       "      <td>0</td>\n",
       "      <td>NaN</td>\n",
       "      <td>NaN</td>\n",
       "      <td>NaN</td>\n",
       "      <td>NaN</td>\n",
       "      <td>NaN</td>\n",
       "      <td>NaN</td>\n",
       "    </tr>\n",
       "  </tbody>\n",
       "</table>\n",
       "<p>25042 rows × 7 columns</p>\n",
       "</div>"
      ],
      "text/plain": [
       "                 COMPARENDO       FECHA CÓDIGO INFRACCIÓN  \\\n",
       "0       9223372036854775807  18/09/2016               B02   \n",
       "1       9223372036854775807  20/11/2016               C24   \n",
       "2       9223372036854775807  22/04/2016               B02   \n",
       "3       9223372036854775807   7/05/2016               B02   \n",
       "4       9223372036854775807  25/03/2016               B02   \n",
       "...                     ...         ...               ...   \n",
       "25037  99999999000004686217  11/12/2020               C35   \n",
       "25038  99999999000004686218  12/12/2020               C35   \n",
       "25039   9999999900004048638  08/12/2019               C14   \n",
       "25040  99999999900000301038  13/01/2018               D02   \n",
       "25041                     0         NaN               NaN   \n",
       "\n",
       "                                              INFRACCION  \\\n",
       "0      Conducir un vehículo con la licencia de conduc...   \n",
       "1      Conducir motocicleta sin observar las normas e...   \n",
       "2      Conducir un vehículo con la licencia de conduc...   \n",
       "3      Conducir un vehículo con la licencia de conduc...   \n",
       "4      Conducir un vehículo con la licencia de conduc...   \n",
       "...                                                  ...   \n",
       "25037  No realizar la revisión técnico-mecánica en el...   \n",
       "25038  No realizar la revisión técnico-mecánica en el...   \n",
       "25039  Transitar por los siguientes sitios restringid...   \n",
       "25040  Conducir sin portar el Seguro Obligatorio de A...   \n",
       "25041                                                NaN   \n",
       "\n",
       "                                LUGAR CLASE VEHICULO     VALOR  \n",
       "0              SARDINATA-CUCUTA KM 58      AUTOMOVIL  183854.0  \n",
       "1                      VIA 7009 KM 72    MOTOCICLETA  344727.0  \n",
       "2           OCAÑA SARDINATA KM 31 600      AUTOMOVIL  183855.0  \n",
       "3               BMANGA PAMPLONA KM 88      CAMIONETA  183855.0  \n",
       "4               BMANGA PAMPLONA KM 88      CAMIONETA  183855.0  \n",
       "...                               ...            ...       ...  \n",
       "25037       SARDINATA CUCUTA KM 58 30            BUS  438902.0  \n",
       "25038  VIA SARDINATA CUCUTA KM 58 300         BUSETA  438902.0  \n",
       "25039      SARDINATA CUCUTA KM 58 300       VOLQUETA  414058.0  \n",
       "25040      SARDINATA CUCUTA KM 58 300    MOTOCICLETA  781242.0  \n",
       "25041                             NaN            NaN       NaN  \n",
       "\n",
       "[25042 rows x 7 columns]"
      ]
     },
     "execution_count": 5,
     "metadata": {},
     "output_type": "execute_result"
    }
   ],
   "source": [
    "# Mostramos el encabezado de las columnas, junto con los primeros 5 registros y ultimos 5 registros\n",
    "df "
   ]
  },
  {
   "cell_type": "code",
   "execution_count": 6,
   "metadata": {},
   "outputs": [
    {
     "data": {
      "text/plain": [
       "Index(['COMPARENDO', 'FECHA', 'CÓDIGO INFRACCIÓN', 'INFRACCION', 'LUGAR',\n",
       "       'CLASE VEHICULO', 'VALOR'],\n",
       "      dtype='object')"
      ]
     },
     "execution_count": 6,
     "metadata": {},
     "output_type": "execute_result"
    }
   ],
   "source": [
    "# Retornmos un indice con los nombre de todas las columnas.\n",
    "df.columns"
   ]
  },
  {
   "cell_type": "code",
   "execution_count": 7,
   "metadata": {},
   "outputs": [
    {
     "data": {
      "text/html": [
       "<div>\n",
       "<style scoped>\n",
       "    .dataframe tbody tr th:only-of-type {\n",
       "        vertical-align: middle;\n",
       "    }\n",
       "\n",
       "    .dataframe tbody tr th {\n",
       "        vertical-align: top;\n",
       "    }\n",
       "\n",
       "    .dataframe thead th {\n",
       "        text-align: right;\n",
       "    }\n",
       "</style>\n",
       "<table border=\"1\" class=\"dataframe\">\n",
       "  <thead>\n",
       "    <tr style=\"text-align: right;\">\n",
       "      <th></th>\n",
       "      <th>COMPARENDO</th>\n",
       "      <th>FECHA</th>\n",
       "      <th>CÓDIGO INFRACCIÓN</th>\n",
       "      <th>INFRACCION</th>\n",
       "      <th>LUGAR</th>\n",
       "      <th>CLASE VEHICULO</th>\n",
       "      <th>VALOR</th>\n",
       "    </tr>\n",
       "  </thead>\n",
       "  <tbody>\n",
       "    <tr>\n",
       "      <th>0</th>\n",
       "      <td>9223372036854775807</td>\n",
       "      <td>18/09/2016</td>\n",
       "      <td>B02</td>\n",
       "      <td>Conducir un vehículo con la licencia de conduc...</td>\n",
       "      <td>SARDINATA-CUCUTA KM 58</td>\n",
       "      <td>AUTOMOVIL</td>\n",
       "      <td>183854.0</td>\n",
       "    </tr>\n",
       "    <tr>\n",
       "      <th>1</th>\n",
       "      <td>9223372036854775807</td>\n",
       "      <td>20/11/2016</td>\n",
       "      <td>C24</td>\n",
       "      <td>Conducir motocicleta sin observar las normas e...</td>\n",
       "      <td>VIA 7009 KM 72</td>\n",
       "      <td>MOTOCICLETA</td>\n",
       "      <td>344727.0</td>\n",
       "    </tr>\n",
       "    <tr>\n",
       "      <th>2</th>\n",
       "      <td>9223372036854775807</td>\n",
       "      <td>22/04/2016</td>\n",
       "      <td>B02</td>\n",
       "      <td>Conducir un vehículo con la licencia de conduc...</td>\n",
       "      <td>OCAÑA SARDINATA KM 31 600</td>\n",
       "      <td>AUTOMOVIL</td>\n",
       "      <td>183855.0</td>\n",
       "    </tr>\n",
       "    <tr>\n",
       "      <th>3</th>\n",
       "      <td>9223372036854775807</td>\n",
       "      <td>7/05/2016</td>\n",
       "      <td>B02</td>\n",
       "      <td>Conducir un vehículo con la licencia de conduc...</td>\n",
       "      <td>BMANGA PAMPLONA KM 88</td>\n",
       "      <td>CAMIONETA</td>\n",
       "      <td>183855.0</td>\n",
       "    </tr>\n",
       "    <tr>\n",
       "      <th>4</th>\n",
       "      <td>9223372036854775807</td>\n",
       "      <td>25/03/2016</td>\n",
       "      <td>B02</td>\n",
       "      <td>Conducir un vehículo con la licencia de conduc...</td>\n",
       "      <td>BMANGA PAMPLONA KM 88</td>\n",
       "      <td>CAMIONETA</td>\n",
       "      <td>183855.0</td>\n",
       "    </tr>\n",
       "    <tr>\n",
       "      <th>5</th>\n",
       "      <td>9223372036854775807</td>\n",
       "      <td>17/07/2016</td>\n",
       "      <td>B01</td>\n",
       "      <td>Conducir un vehículo sin llevar consigo la lic...</td>\n",
       "      <td>SARDINATA CUCUTA KM 58 300</td>\n",
       "      <td>MOTOCICLETA</td>\n",
       "      <td>183854.0</td>\n",
       "    </tr>\n",
       "    <tr>\n",
       "      <th>6</th>\n",
       "      <td>9223372036854775807</td>\n",
       "      <td>13/07/2016</td>\n",
       "      <td>B01</td>\n",
       "      <td>Conducir un vehículo sin llevar consigo la lic...</td>\n",
       "      <td>OCAÑA SARDINATA KM 24 500</td>\n",
       "      <td>MOTOCICLETA</td>\n",
       "      <td>183855.0</td>\n",
       "    </tr>\n",
       "    <tr>\n",
       "      <th>7</th>\n",
       "      <td>9223372036854775807</td>\n",
       "      <td>23/11/2016</td>\n",
       "      <td>B01</td>\n",
       "      <td>Conducir un vehículo sin llevar consigo la lic...</td>\n",
       "      <td>SARDINATA CUCUTA KM 58 300</td>\n",
       "      <td>AUTOMOVIL</td>\n",
       "      <td>183855.0</td>\n",
       "    </tr>\n",
       "    <tr>\n",
       "      <th>8</th>\n",
       "      <td>9223372036854775807</td>\n",
       "      <td>22/09/2016</td>\n",
       "      <td>C06</td>\n",
       "      <td>No utilizar el cinturón de seguridad por parte...</td>\n",
       "      <td>BMANGA PAMPLONA KM 88</td>\n",
       "      <td>T/CAMION</td>\n",
       "      <td>344728.0</td>\n",
       "    </tr>\n",
       "    <tr>\n",
       "      <th>9</th>\n",
       "      <td>9223372036854775807</td>\n",
       "      <td>29/05/2016</td>\n",
       "      <td>B02</td>\n",
       "      <td>Conducir un vehículo con la licencia de conduc...</td>\n",
       "      <td>VIA 7009 KM 56</td>\n",
       "      <td>AUTOMOVIL</td>\n",
       "      <td>183855.0</td>\n",
       "    </tr>\n",
       "    <tr>\n",
       "      <th>10</th>\n",
       "      <td>9223372036854775807</td>\n",
       "      <td>27/05/2016</td>\n",
       "      <td>B02</td>\n",
       "      <td>Conducir un vehículo con la licencia de conduc...</td>\n",
       "      <td>BUACARAMANGA-PAMPLONA KM 88</td>\n",
       "      <td>AUTOMOVIL</td>\n",
       "      <td>183854.0</td>\n",
       "    </tr>\n",
       "    <tr>\n",
       "      <th>11</th>\n",
       "      <td>9223372036854775807</td>\n",
       "      <td>9/03/2016</td>\n",
       "      <td>B01</td>\n",
       "      <td>Conducir un vehículo sin llevar consigo la lic...</td>\n",
       "      <td>SARDINATA-CUCUTA KM 58</td>\n",
       "      <td>MOTOCICLETA</td>\n",
       "      <td>183854.0</td>\n",
       "    </tr>\n",
       "    <tr>\n",
       "      <th>12</th>\n",
       "      <td>9223372036854775807</td>\n",
       "      <td>30/12/2016</td>\n",
       "      <td>B01</td>\n",
       "      <td>Conducir un vehículo sin llevar consigo la lic...</td>\n",
       "      <td>OCAÑA SARDINATA KM 28</td>\n",
       "      <td>MOTOCICLETA</td>\n",
       "      <td>183855.0</td>\n",
       "    </tr>\n",
       "    <tr>\n",
       "      <th>13</th>\n",
       "      <td>9223372036854775807</td>\n",
       "      <td>24/02/2016</td>\n",
       "      <td>B02</td>\n",
       "      <td>Conducir un vehículo con la licencia de conduc...</td>\n",
       "      <td>KM 88 - VI BUCARAMANGA-PAMPLONA</td>\n",
       "      <td>AUTOMOVIL</td>\n",
       "      <td>183855.0</td>\n",
       "    </tr>\n",
       "    <tr>\n",
       "      <th>14</th>\n",
       "      <td>9223372036854775807</td>\n",
       "      <td>15/03/2016</td>\n",
       "      <td>C06</td>\n",
       "      <td>No utilizar el cinturón de seguridad por parte...</td>\n",
       "      <td>PAMPLONA-CUCUTA KM 82</td>\n",
       "      <td>T/CAMION</td>\n",
       "      <td>344727.0</td>\n",
       "    </tr>\n",
       "    <tr>\n",
       "      <th>15</th>\n",
       "      <td>9223372036854775807</td>\n",
       "      <td>29/07/2016</td>\n",
       "      <td>B01</td>\n",
       "      <td>Conducir un vehículo sin llevar consigo la lic...</td>\n",
       "      <td>SARDINATA-CUCUTA KM 58</td>\n",
       "      <td>MOTOCICLETA</td>\n",
       "      <td>183854.0</td>\n",
       "    </tr>\n",
       "    <tr>\n",
       "      <th>16</th>\n",
       "      <td>9223372036854775807</td>\n",
       "      <td>5/10/2016</td>\n",
       "      <td>C06</td>\n",
       "      <td>No utilizar el cinturón de seguridad por parte...</td>\n",
       "      <td>PAMPLONA CUCUTA KM 87</td>\n",
       "      <td>CAMPERO</td>\n",
       "      <td>344728.0</td>\n",
       "    </tr>\n",
       "    <tr>\n",
       "      <th>17</th>\n",
       "      <td>9223372036854775807</td>\n",
       "      <td>8/07/2016</td>\n",
       "      <td>B02</td>\n",
       "      <td>Conducir un vehículo con la licencia de conduc...</td>\n",
       "      <td>VI BUCARAMANGA PAMPLONA - KM 88 LA LAGUNA</td>\n",
       "      <td>CAMION</td>\n",
       "      <td>183855.0</td>\n",
       "    </tr>\n",
       "    <tr>\n",
       "      <th>18</th>\n",
       "      <td>9223372036854775807</td>\n",
       "      <td>10/01/2016</td>\n",
       "      <td>B01</td>\n",
       "      <td>Conducir un vehículo sin llevar consigo la lic...</td>\n",
       "      <td>SARDINATA-CUCUTA KM 58</td>\n",
       "      <td>AUTOMOVIL</td>\n",
       "      <td>183854.0</td>\n",
       "    </tr>\n",
       "    <tr>\n",
       "      <th>19</th>\n",
       "      <td>9223372036854775807</td>\n",
       "      <td>22/01/2016</td>\n",
       "      <td>B01</td>\n",
       "      <td>Conducir un vehículo sin llevar consigo la lic...</td>\n",
       "      <td>VI OCANA SARDINATA - KM 23</td>\n",
       "      <td>MOTOCICLETA</td>\n",
       "      <td>183860.0</td>\n",
       "    </tr>\n",
       "  </tbody>\n",
       "</table>\n",
       "</div>"
      ],
      "text/plain": [
       "             COMPARENDO       FECHA CÓDIGO INFRACCIÓN  \\\n",
       "0   9223372036854775807  18/09/2016               B02   \n",
       "1   9223372036854775807  20/11/2016               C24   \n",
       "2   9223372036854775807  22/04/2016               B02   \n",
       "3   9223372036854775807   7/05/2016               B02   \n",
       "4   9223372036854775807  25/03/2016               B02   \n",
       "5   9223372036854775807  17/07/2016               B01   \n",
       "6   9223372036854775807  13/07/2016               B01   \n",
       "7   9223372036854775807  23/11/2016               B01   \n",
       "8   9223372036854775807  22/09/2016               C06   \n",
       "9   9223372036854775807  29/05/2016               B02   \n",
       "10  9223372036854775807  27/05/2016               B02   \n",
       "11  9223372036854775807   9/03/2016               B01   \n",
       "12  9223372036854775807  30/12/2016               B01   \n",
       "13  9223372036854775807  24/02/2016               B02   \n",
       "14  9223372036854775807  15/03/2016               C06   \n",
       "15  9223372036854775807  29/07/2016               B01   \n",
       "16  9223372036854775807   5/10/2016               C06   \n",
       "17  9223372036854775807   8/07/2016               B02   \n",
       "18  9223372036854775807  10/01/2016               B01   \n",
       "19  9223372036854775807  22/01/2016               B01   \n",
       "\n",
       "                                           INFRACCION  \\\n",
       "0   Conducir un vehículo con la licencia de conduc...   \n",
       "1   Conducir motocicleta sin observar las normas e...   \n",
       "2   Conducir un vehículo con la licencia de conduc...   \n",
       "3   Conducir un vehículo con la licencia de conduc...   \n",
       "4   Conducir un vehículo con la licencia de conduc...   \n",
       "5   Conducir un vehículo sin llevar consigo la lic...   \n",
       "6   Conducir un vehículo sin llevar consigo la lic...   \n",
       "7   Conducir un vehículo sin llevar consigo la lic...   \n",
       "8   No utilizar el cinturón de seguridad por parte...   \n",
       "9   Conducir un vehículo con la licencia de conduc...   \n",
       "10  Conducir un vehículo con la licencia de conduc...   \n",
       "11  Conducir un vehículo sin llevar consigo la lic...   \n",
       "12  Conducir un vehículo sin llevar consigo la lic...   \n",
       "13  Conducir un vehículo con la licencia de conduc...   \n",
       "14  No utilizar el cinturón de seguridad por parte...   \n",
       "15  Conducir un vehículo sin llevar consigo la lic...   \n",
       "16  No utilizar el cinturón de seguridad por parte...   \n",
       "17  Conducir un vehículo con la licencia de conduc...   \n",
       "18  Conducir un vehículo sin llevar consigo la lic...   \n",
       "19  Conducir un vehículo sin llevar consigo la lic...   \n",
       "\n",
       "                                        LUGAR CLASE VEHICULO     VALOR  \n",
       "0                      SARDINATA-CUCUTA KM 58      AUTOMOVIL  183854.0  \n",
       "1                              VIA 7009 KM 72    MOTOCICLETA  344727.0  \n",
       "2                   OCAÑA SARDINATA KM 31 600      AUTOMOVIL  183855.0  \n",
       "3                       BMANGA PAMPLONA KM 88      CAMIONETA  183855.0  \n",
       "4                       BMANGA PAMPLONA KM 88      CAMIONETA  183855.0  \n",
       "5                  SARDINATA CUCUTA KM 58 300    MOTOCICLETA  183854.0  \n",
       "6                   OCAÑA SARDINATA KM 24 500    MOTOCICLETA  183855.0  \n",
       "7                  SARDINATA CUCUTA KM 58 300      AUTOMOVIL  183855.0  \n",
       "8                       BMANGA PAMPLONA KM 88       T/CAMION  344728.0  \n",
       "9                              VIA 7009 KM 56      AUTOMOVIL  183855.0  \n",
       "10                BUACARAMANGA-PAMPLONA KM 88      AUTOMOVIL  183854.0  \n",
       "11                     SARDINATA-CUCUTA KM 58    MOTOCICLETA  183854.0  \n",
       "12                      OCAÑA SARDINATA KM 28    MOTOCICLETA  183855.0  \n",
       "13            KM 88 - VI BUCARAMANGA-PAMPLONA      AUTOMOVIL  183855.0  \n",
       "14                      PAMPLONA-CUCUTA KM 82       T/CAMION  344727.0  \n",
       "15                     SARDINATA-CUCUTA KM 58    MOTOCICLETA  183854.0  \n",
       "16                      PAMPLONA CUCUTA KM 87        CAMPERO  344728.0  \n",
       "17  VI BUCARAMANGA PAMPLONA - KM 88 LA LAGUNA         CAMION  183855.0  \n",
       "18                     SARDINATA-CUCUTA KM 58      AUTOMOVIL  183854.0  \n",
       "19                 VI OCANA SARDINATA - KM 23    MOTOCICLETA  183860.0  "
      ]
     },
     "execution_count": 7,
     "metadata": {},
     "output_type": "execute_result"
    }
   ],
   "source": [
    "# Obtenemos los encabezados, junto con 20 filas comenzando desde arriba\n",
    "df.head(20)"
   ]
  },
  {
   "cell_type": "code",
   "execution_count": 8,
   "metadata": {},
   "outputs": [
    {
     "data": {
      "text/html": [
       "<div>\n",
       "<style scoped>\n",
       "    .dataframe tbody tr th:only-of-type {\n",
       "        vertical-align: middle;\n",
       "    }\n",
       "\n",
       "    .dataframe tbody tr th {\n",
       "        vertical-align: top;\n",
       "    }\n",
       "\n",
       "    .dataframe thead th {\n",
       "        text-align: right;\n",
       "    }\n",
       "</style>\n",
       "<table border=\"1\" class=\"dataframe\">\n",
       "  <thead>\n",
       "    <tr style=\"text-align: right;\">\n",
       "      <th></th>\n",
       "      <th>COMPARENDO</th>\n",
       "      <th>FECHA</th>\n",
       "      <th>CÓDIGO INFRACCIÓN</th>\n",
       "      <th>INFRACCION</th>\n",
       "      <th>LUGAR</th>\n",
       "      <th>CLASE VEHICULO</th>\n",
       "      <th>VALOR</th>\n",
       "    </tr>\n",
       "  </thead>\n",
       "  <tbody>\n",
       "    <tr>\n",
       "      <th>25017</th>\n",
       "      <td>99999999000004685958</td>\n",
       "      <td>13/12/2020</td>\n",
       "      <td>C15</td>\n",
       "      <td>Conducir un vehiculo, particular o publico, ex...</td>\n",
       "      <td>SARDINATA CUCUTA KM 58 300</td>\n",
       "      <td>MOTOCICLETA</td>\n",
       "      <td>438902.0</td>\n",
       "    </tr>\n",
       "    <tr>\n",
       "      <th>25018</th>\n",
       "      <td>99999999000004686105</td>\n",
       "      <td>24/11/2020</td>\n",
       "      <td>B01</td>\n",
       "      <td>Conducir un vehículo sin llevar consigo la lic...</td>\n",
       "      <td>SARDINATA CUCUTA KM 58 300</td>\n",
       "      <td>MOTOCICLETA</td>\n",
       "      <td>146301.0</td>\n",
       "    </tr>\n",
       "    <tr>\n",
       "      <th>25019</th>\n",
       "      <td>99999999000004686107</td>\n",
       "      <td>30/11/2020</td>\n",
       "      <td>C35</td>\n",
       "      <td>No realizar la revisión técnico-mecánica en el...</td>\n",
       "      <td>VIA SARDINATA CUCUTA KM 58 300</td>\n",
       "      <td>VOLQUETA</td>\n",
       "      <td>274314.0</td>\n",
       "    </tr>\n",
       "    <tr>\n",
       "      <th>25020</th>\n",
       "      <td>99999999000004686108</td>\n",
       "      <td>03/12/2020</td>\n",
       "      <td>C31</td>\n",
       "      <td>No acatar las señales de transito o requerimie...</td>\n",
       "      <td>SARDINATA CUCUTA KM 58 300</td>\n",
       "      <td>CAMIONETA</td>\n",
       "      <td>438902.0</td>\n",
       "    </tr>\n",
       "    <tr>\n",
       "      <th>25021</th>\n",
       "      <td>99999999000004686109</td>\n",
       "      <td>03/12/2020</td>\n",
       "      <td>C31</td>\n",
       "      <td>No acatar las señales de transito o requerimie...</td>\n",
       "      <td>SARDINATA CUCUTA KM 58 300</td>\n",
       "      <td>CAMIONETA</td>\n",
       "      <td>438902.0</td>\n",
       "    </tr>\n",
       "    <tr>\n",
       "      <th>25022</th>\n",
       "      <td>99999999000004686110</td>\n",
       "      <td>03/12/2020</td>\n",
       "      <td>C31</td>\n",
       "      <td>No acatar las señales de transito o requerimie...</td>\n",
       "      <td>SARDINATA CUCUTA KM 58 300</td>\n",
       "      <td>AUTOMOVIL</td>\n",
       "      <td>438902.0</td>\n",
       "    </tr>\n",
       "    <tr>\n",
       "      <th>25023</th>\n",
       "      <td>99999999000004686111</td>\n",
       "      <td>03/12/2020</td>\n",
       "      <td>C31</td>\n",
       "      <td>No acatar las señales de transito o requerimie...</td>\n",
       "      <td>SARDINATA CUCUTA KM 58 300</td>\n",
       "      <td>AUTOMOVIL</td>\n",
       "      <td>438902.0</td>\n",
       "    </tr>\n",
       "    <tr>\n",
       "      <th>25024</th>\n",
       "      <td>99999999000004686112</td>\n",
       "      <td>04/12/2020</td>\n",
       "      <td>D01</td>\n",
       "      <td>Guiar un vehículo sin haber obtenido la licenc...</td>\n",
       "      <td>SARDINATA CUCUTA KM 58 300</td>\n",
       "      <td>CAMION</td>\n",
       "      <td>877803.0</td>\n",
       "    </tr>\n",
       "    <tr>\n",
       "      <th>25025</th>\n",
       "      <td>99999999000004686205</td>\n",
       "      <td>27/11/2020</td>\n",
       "      <td>B02</td>\n",
       "      <td>Conducir un vehículo con la licencia de conduc...</td>\n",
       "      <td>VIA SARDINATA CUCUTA KM 58 300</td>\n",
       "      <td>CAMION</td>\n",
       "      <td>234081.0</td>\n",
       "    </tr>\n",
       "    <tr>\n",
       "      <th>25026</th>\n",
       "      <td>99999999000004686206</td>\n",
       "      <td>29/11/2020</td>\n",
       "      <td>C15</td>\n",
       "      <td>Conducir un vehiculo, particular o publico, ex...</td>\n",
       "      <td>VIA SARDINATA CUCUTA KM 58 300</td>\n",
       "      <td>MOTOCICLETA</td>\n",
       "      <td>438902.0</td>\n",
       "    </tr>\n",
       "    <tr>\n",
       "      <th>25027</th>\n",
       "      <td>99999999000004686207</td>\n",
       "      <td>06/12/2020</td>\n",
       "      <td>C15</td>\n",
       "      <td>Conducir un vehiculo, particular o publico, ex...</td>\n",
       "      <td>VIA SARDINATA CUCUTA KM 58 300</td>\n",
       "      <td>MOTOCICLETA</td>\n",
       "      <td>438902.0</td>\n",
       "    </tr>\n",
       "    <tr>\n",
       "      <th>25028</th>\n",
       "      <td>99999999000004686208</td>\n",
       "      <td>06/12/2020</td>\n",
       "      <td>C15</td>\n",
       "      <td>Conducir un vehiculo, particular o publico, ex...</td>\n",
       "      <td>VIA SARDINATA CUCUTA KM 58 300</td>\n",
       "      <td>MOTOCICLETA</td>\n",
       "      <td>438902.0</td>\n",
       "    </tr>\n",
       "    <tr>\n",
       "      <th>25029</th>\n",
       "      <td>99999999000004686209</td>\n",
       "      <td>06/12/2020</td>\n",
       "      <td>D01</td>\n",
       "      <td>Guiar un vehículo sin haber obtenido la licenc...</td>\n",
       "      <td>VIA SARDINATA CUCUTA  KM 58 300</td>\n",
       "      <td>MOTOCICLETA</td>\n",
       "      <td>877803.0</td>\n",
       "    </tr>\n",
       "    <tr>\n",
       "      <th>25030</th>\n",
       "      <td>99999999000004686210</td>\n",
       "      <td>06/12/2020</td>\n",
       "      <td>D02</td>\n",
       "      <td>Conducir sin portar el Seguro Obligatorio de A...</td>\n",
       "      <td>VIA SARDINATA CUCUTA KM 58 300</td>\n",
       "      <td>MOTOCICLETA</td>\n",
       "      <td>877803.0</td>\n",
       "    </tr>\n",
       "    <tr>\n",
       "      <th>25031</th>\n",
       "      <td>99999999000004686211</td>\n",
       "      <td>06/12/2020</td>\n",
       "      <td>C35</td>\n",
       "      <td>No realizar la revisión técnico-mecánica en el...</td>\n",
       "      <td>VIA SARDINATA CUCUTA KM 58 300</td>\n",
       "      <td>MOTOCICLETA</td>\n",
       "      <td>438902.0</td>\n",
       "    </tr>\n",
       "    <tr>\n",
       "      <th>25032</th>\n",
       "      <td>99999999000004686212</td>\n",
       "      <td>06/12/2020</td>\n",
       "      <td>C15</td>\n",
       "      <td>Conducir un vehiculo, particular o publico, ex...</td>\n",
       "      <td>VIA SARDINATA CUCUTA KM 58 300</td>\n",
       "      <td>MOTOCICLETA</td>\n",
       "      <td>438902.0</td>\n",
       "    </tr>\n",
       "    <tr>\n",
       "      <th>25033</th>\n",
       "      <td>99999999000004686213</td>\n",
       "      <td>08/12/2020</td>\n",
       "      <td>C14</td>\n",
       "      <td>Transitar por los siguientes sitios restringid...</td>\n",
       "      <td>VIA SARDINATA CUCUTA KM 58 300</td>\n",
       "      <td>VOLQUETA</td>\n",
       "      <td>438902.0</td>\n",
       "    </tr>\n",
       "    <tr>\n",
       "      <th>25034</th>\n",
       "      <td>99999999000004686214</td>\n",
       "      <td>07/12/2020</td>\n",
       "      <td>B05</td>\n",
       "      <td>Con una sola placa, o sin el permiso vigente e...</td>\n",
       "      <td>VIA SARDINATA CUCUTA KM 58 300</td>\n",
       "      <td>AUTOMOVIL</td>\n",
       "      <td>234081.0</td>\n",
       "    </tr>\n",
       "    <tr>\n",
       "      <th>25035</th>\n",
       "      <td>99999999000004686215</td>\n",
       "      <td>08/12/2020</td>\n",
       "      <td>C15</td>\n",
       "      <td>Conducir un vehiculo, particular o publico, ex...</td>\n",
       "      <td>SARDINATA CUCUTA KM 58 300</td>\n",
       "      <td>MOTOCICLETA</td>\n",
       "      <td>438902.0</td>\n",
       "    </tr>\n",
       "    <tr>\n",
       "      <th>25036</th>\n",
       "      <td>99999999000004686216</td>\n",
       "      <td>08/12/2020</td>\n",
       "      <td>C14</td>\n",
       "      <td>Transitar por los siguientes sitios restringid...</td>\n",
       "      <td>SARDINATA CUCUTA KM 58 300</td>\n",
       "      <td>CAMION</td>\n",
       "      <td>438902.0</td>\n",
       "    </tr>\n",
       "    <tr>\n",
       "      <th>25037</th>\n",
       "      <td>99999999000004686217</td>\n",
       "      <td>11/12/2020</td>\n",
       "      <td>C35</td>\n",
       "      <td>No realizar la revisión técnico-mecánica en el...</td>\n",
       "      <td>SARDINATA CUCUTA KM 58 30</td>\n",
       "      <td>BUS</td>\n",
       "      <td>438902.0</td>\n",
       "    </tr>\n",
       "    <tr>\n",
       "      <th>25038</th>\n",
       "      <td>99999999000004686218</td>\n",
       "      <td>12/12/2020</td>\n",
       "      <td>C35</td>\n",
       "      <td>No realizar la revisión técnico-mecánica en el...</td>\n",
       "      <td>VIA SARDINATA CUCUTA KM 58 300</td>\n",
       "      <td>BUSETA</td>\n",
       "      <td>438902.0</td>\n",
       "    </tr>\n",
       "    <tr>\n",
       "      <th>25039</th>\n",
       "      <td>9999999900004048638</td>\n",
       "      <td>08/12/2019</td>\n",
       "      <td>C14</td>\n",
       "      <td>Transitar por los siguientes sitios restringid...</td>\n",
       "      <td>SARDINATA CUCUTA KM 58 300</td>\n",
       "      <td>VOLQUETA</td>\n",
       "      <td>414058.0</td>\n",
       "    </tr>\n",
       "    <tr>\n",
       "      <th>25040</th>\n",
       "      <td>99999999900000301038</td>\n",
       "      <td>13/01/2018</td>\n",
       "      <td>D02</td>\n",
       "      <td>Conducir sin portar el Seguro Obligatorio de A...</td>\n",
       "      <td>SARDINATA CUCUTA KM 58 300</td>\n",
       "      <td>MOTOCICLETA</td>\n",
       "      <td>781242.0</td>\n",
       "    </tr>\n",
       "    <tr>\n",
       "      <th>25041</th>\n",
       "      <td>0</td>\n",
       "      <td>NaN</td>\n",
       "      <td>NaN</td>\n",
       "      <td>NaN</td>\n",
       "      <td>NaN</td>\n",
       "      <td>NaN</td>\n",
       "      <td>NaN</td>\n",
       "    </tr>\n",
       "  </tbody>\n",
       "</table>\n",
       "</div>"
      ],
      "text/plain": [
       "                 COMPARENDO       FECHA CÓDIGO INFRACCIÓN  \\\n",
       "25017  99999999000004685958  13/12/2020               C15   \n",
       "25018  99999999000004686105  24/11/2020               B01   \n",
       "25019  99999999000004686107  30/11/2020               C35   \n",
       "25020  99999999000004686108  03/12/2020               C31   \n",
       "25021  99999999000004686109  03/12/2020               C31   \n",
       "25022  99999999000004686110  03/12/2020               C31   \n",
       "25023  99999999000004686111  03/12/2020               C31   \n",
       "25024  99999999000004686112  04/12/2020               D01   \n",
       "25025  99999999000004686205  27/11/2020               B02   \n",
       "25026  99999999000004686206  29/11/2020               C15   \n",
       "25027  99999999000004686207  06/12/2020               C15   \n",
       "25028  99999999000004686208  06/12/2020               C15   \n",
       "25029  99999999000004686209  06/12/2020               D01   \n",
       "25030  99999999000004686210  06/12/2020               D02   \n",
       "25031  99999999000004686211  06/12/2020               C35   \n",
       "25032  99999999000004686212  06/12/2020               C15   \n",
       "25033  99999999000004686213  08/12/2020               C14   \n",
       "25034  99999999000004686214  07/12/2020               B05   \n",
       "25035  99999999000004686215  08/12/2020               C15   \n",
       "25036  99999999000004686216  08/12/2020               C14   \n",
       "25037  99999999000004686217  11/12/2020               C35   \n",
       "25038  99999999000004686218  12/12/2020               C35   \n",
       "25039   9999999900004048638  08/12/2019               C14   \n",
       "25040  99999999900000301038  13/01/2018               D02   \n",
       "25041                     0         NaN               NaN   \n",
       "\n",
       "                                              INFRACCION  \\\n",
       "25017  Conducir un vehiculo, particular o publico, ex...   \n",
       "25018  Conducir un vehículo sin llevar consigo la lic...   \n",
       "25019  No realizar la revisión técnico-mecánica en el...   \n",
       "25020  No acatar las señales de transito o requerimie...   \n",
       "25021  No acatar las señales de transito o requerimie...   \n",
       "25022  No acatar las señales de transito o requerimie...   \n",
       "25023  No acatar las señales de transito o requerimie...   \n",
       "25024  Guiar un vehículo sin haber obtenido la licenc...   \n",
       "25025  Conducir un vehículo con la licencia de conduc...   \n",
       "25026  Conducir un vehiculo, particular o publico, ex...   \n",
       "25027  Conducir un vehiculo, particular o publico, ex...   \n",
       "25028  Conducir un vehiculo, particular o publico, ex...   \n",
       "25029  Guiar un vehículo sin haber obtenido la licenc...   \n",
       "25030  Conducir sin portar el Seguro Obligatorio de A...   \n",
       "25031  No realizar la revisión técnico-mecánica en el...   \n",
       "25032  Conducir un vehiculo, particular o publico, ex...   \n",
       "25033  Transitar por los siguientes sitios restringid...   \n",
       "25034  Con una sola placa, o sin el permiso vigente e...   \n",
       "25035  Conducir un vehiculo, particular o publico, ex...   \n",
       "25036  Transitar por los siguientes sitios restringid...   \n",
       "25037  No realizar la revisión técnico-mecánica en el...   \n",
       "25038  No realizar la revisión técnico-mecánica en el...   \n",
       "25039  Transitar por los siguientes sitios restringid...   \n",
       "25040  Conducir sin portar el Seguro Obligatorio de A...   \n",
       "25041                                                NaN   \n",
       "\n",
       "                                 LUGAR CLASE VEHICULO     VALOR  \n",
       "25017       SARDINATA CUCUTA KM 58 300    MOTOCICLETA  438902.0  \n",
       "25018       SARDINATA CUCUTA KM 58 300    MOTOCICLETA  146301.0  \n",
       "25019   VIA SARDINATA CUCUTA KM 58 300       VOLQUETA  274314.0  \n",
       "25020       SARDINATA CUCUTA KM 58 300      CAMIONETA  438902.0  \n",
       "25021       SARDINATA CUCUTA KM 58 300      CAMIONETA  438902.0  \n",
       "25022       SARDINATA CUCUTA KM 58 300      AUTOMOVIL  438902.0  \n",
       "25023       SARDINATA CUCUTA KM 58 300      AUTOMOVIL  438902.0  \n",
       "25024       SARDINATA CUCUTA KM 58 300         CAMION  877803.0  \n",
       "25025   VIA SARDINATA CUCUTA KM 58 300         CAMION  234081.0  \n",
       "25026   VIA SARDINATA CUCUTA KM 58 300    MOTOCICLETA  438902.0  \n",
       "25027   VIA SARDINATA CUCUTA KM 58 300    MOTOCICLETA  438902.0  \n",
       "25028   VIA SARDINATA CUCUTA KM 58 300    MOTOCICLETA  438902.0  \n",
       "25029  VIA SARDINATA CUCUTA  KM 58 300    MOTOCICLETA  877803.0  \n",
       "25030   VIA SARDINATA CUCUTA KM 58 300    MOTOCICLETA  877803.0  \n",
       "25031   VIA SARDINATA CUCUTA KM 58 300    MOTOCICLETA  438902.0  \n",
       "25032   VIA SARDINATA CUCUTA KM 58 300    MOTOCICLETA  438902.0  \n",
       "25033   VIA SARDINATA CUCUTA KM 58 300       VOLQUETA  438902.0  \n",
       "25034   VIA SARDINATA CUCUTA KM 58 300      AUTOMOVIL  234081.0  \n",
       "25035       SARDINATA CUCUTA KM 58 300    MOTOCICLETA  438902.0  \n",
       "25036       SARDINATA CUCUTA KM 58 300         CAMION  438902.0  \n",
       "25037        SARDINATA CUCUTA KM 58 30            BUS  438902.0  \n",
       "25038   VIA SARDINATA CUCUTA KM 58 300         BUSETA  438902.0  \n",
       "25039       SARDINATA CUCUTA KM 58 300       VOLQUETA  414058.0  \n",
       "25040       SARDINATA CUCUTA KM 58 300    MOTOCICLETA  781242.0  \n",
       "25041                              NaN            NaN       NaN  "
      ]
     },
     "execution_count": 8,
     "metadata": {},
     "output_type": "execute_result"
    }
   ],
   "source": [
    "# Obtenemos los encabezados, junto con 25 filas comenzando desde abajo\n",
    "df.tail(25)"
   ]
  },
  {
   "cell_type": "code",
   "execution_count": null,
   "metadata": {},
   "outputs": [
    {
     "data": {
      "text/plain": [
       "COMPARENDO                                         9223372036854775807\n",
       "FECHA                                                       18/09/2016\n",
       "CÓDIGO INFRACCIÓN                                                  B02\n",
       "INFRACCION           Conducir un vehículo con la licencia de conduc...\n",
       "LUGAR                                           SARDINATA-CUCUTA KM 58\n",
       "CLASE VEHICULO                                               AUTOMOVIL\n",
       "VALOR                                                         183854.0\n",
       "Name: 0, dtype: object"
      ]
     },
     "execution_count": 9,
     "metadata": {},
     "output_type": "execute_result"
    }
   ],
   "source": [
    "# Mostramos la primera fila del DataFrame\n",
    "df.loc[0]"
   ]
  },
  {
   "cell_type": "code",
   "execution_count": 10,
   "metadata": {},
   "outputs": [
    {
     "data": {
      "text/html": [
       "<div>\n",
       "<style scoped>\n",
       "    .dataframe tbody tr th:only-of-type {\n",
       "        vertical-align: middle;\n",
       "    }\n",
       "\n",
       "    .dataframe tbody tr th {\n",
       "        vertical-align: top;\n",
       "    }\n",
       "\n",
       "    .dataframe thead th {\n",
       "        text-align: right;\n",
       "    }\n",
       "</style>\n",
       "<table border=\"1\" class=\"dataframe\">\n",
       "  <thead>\n",
       "    <tr style=\"text-align: right;\">\n",
       "      <th></th>\n",
       "      <th>COMPARENDO</th>\n",
       "      <th>FECHA</th>\n",
       "      <th>CÓDIGO INFRACCIÓN</th>\n",
       "      <th>INFRACCION</th>\n",
       "      <th>LUGAR</th>\n",
       "      <th>CLASE VEHICULO</th>\n",
       "      <th>VALOR</th>\n",
       "    </tr>\n",
       "  </thead>\n",
       "  <tbody>\n",
       "    <tr>\n",
       "      <th>4</th>\n",
       "      <td>9223372036854775807</td>\n",
       "      <td>25/03/2016</td>\n",
       "      <td>B02</td>\n",
       "      <td>Conducir un vehículo con la licencia de conduc...</td>\n",
       "      <td>BMANGA PAMPLONA KM 88</td>\n",
       "      <td>CAMIONETA</td>\n",
       "      <td>183855.0</td>\n",
       "    </tr>\n",
       "    <tr>\n",
       "      <th>9</th>\n",
       "      <td>9223372036854775807</td>\n",
       "      <td>29/05/2016</td>\n",
       "      <td>B02</td>\n",
       "      <td>Conducir un vehículo con la licencia de conduc...</td>\n",
       "      <td>VIA 7009 KM 56</td>\n",
       "      <td>AUTOMOVIL</td>\n",
       "      <td>183855.0</td>\n",
       "    </tr>\n",
       "  </tbody>\n",
       "</table>\n",
       "</div>"
      ],
      "text/plain": [
       "            COMPARENDO       FECHA CÓDIGO INFRACCIÓN  \\\n",
       "4  9223372036854775807  25/03/2016               B02   \n",
       "9  9223372036854775807  29/05/2016               B02   \n",
       "\n",
       "                                          INFRACCION                  LUGAR  \\\n",
       "4  Conducir un vehículo con la licencia de conduc...  BMANGA PAMPLONA KM 88   \n",
       "9  Conducir un vehículo con la licencia de conduc...         VIA 7009 KM 56   \n",
       "\n",
       "  CLASE VEHICULO     VALOR  \n",
       "4      CAMIONETA  183855.0  \n",
       "9      AUTOMOVIL  183855.0  "
      ]
     },
     "execution_count": 10,
     "metadata": {},
     "output_type": "execute_result"
    }
   ],
   "source": [
    "# Mostramos las filas 3 y 8\n",
    "df.loc[[4, 9]]"
   ]
  },
  {
   "cell_type": "code",
   "execution_count": 11,
   "metadata": {},
   "outputs": [
    {
     "data": {
      "text/plain": [
       "count                   25042\n",
       "unique                  16307\n",
       "top       9223372036854775807\n",
       "freq                     8453\n",
       "Name: COMPARENDO, dtype: object"
      ]
     },
     "execution_count": 11,
     "metadata": {},
     "output_type": "execute_result"
    }
   ],
   "source": [
    "# Genaramos estadistica descriptiva por cada columna\n",
    "# COMPARENDO\n",
    "\n",
    "df.COMPARENDO.describe()"
   ]
  },
  {
   "cell_type": "code",
   "execution_count": 12,
   "metadata": {},
   "outputs": [
    {
     "data": {
      "text/plain": [
       "count         25041\n",
       "unique         1443\n",
       "top       5/09/2016\n",
       "freq             73\n",
       "Name: FECHA, dtype: object"
      ]
     },
     "execution_count": 12,
     "metadata": {},
     "output_type": "execute_result"
    }
   ],
   "source": [
    "# FECHA\n",
    "\n",
    "df.FECHA.describe()"
   ]
  },
  {
   "cell_type": "code",
   "execution_count": 13,
   "metadata": {},
   "outputs": [
    {
     "data": {
      "text/plain": [
       "count     25041\n",
       "unique       66\n",
       "top         C35\n",
       "freq       3671\n",
       "Name: CÓDIGO INFRACCIÓN, dtype: object"
      ]
     },
     "execution_count": 13,
     "metadata": {},
     "output_type": "execute_result"
    }
   ],
   "source": [
    "# CÓDIGO INFRACCIÓN\n",
    "\n",
    "df[\"CÓDIGO INFRACCIÓN\"].describe()"
   ]
  },
  {
   "cell_type": "code",
   "execution_count": 14,
   "metadata": {},
   "outputs": [
    {
     "data": {
      "text/plain": [
       "count                                                 25041\n",
       "unique                                                   99\n",
       "top       Conducir motocicleta sin observar las normas e...\n",
       "freq                                                   3021\n",
       "Name: INFRACCION, dtype: object"
      ]
     },
     "execution_count": 14,
     "metadata": {},
     "output_type": "execute_result"
    }
   ],
   "source": [
    "# INFRACCION\n",
    "\n",
    "df.INFRACCION.describe()"
   ]
  },
  {
   "cell_type": "code",
   "execution_count": 15,
   "metadata": {},
   "outputs": [
    {
     "data": {
      "text/plain": [
       "count                          25041\n",
       "unique                          3395\n",
       "top       SARDINATA CUCUTA KM 58 300\n",
       "freq                            3366\n",
       "Name: LUGAR, dtype: object"
      ]
     },
     "execution_count": 15,
     "metadata": {},
     "output_type": "execute_result"
    }
   ],
   "source": [
    "# LUGAR\n",
    "\n",
    "df.LUGAR.describe()"
   ]
  },
  {
   "cell_type": "code",
   "execution_count": 16,
   "metadata": {},
   "outputs": [
    {
     "data": {
      "text/plain": [
       "count           25031\n",
       "unique             16\n",
       "top       MOTOCICLETA\n",
       "freq            11895\n",
       "Name: CLASE VEHICULO, dtype: object"
      ]
     },
     "execution_count": 16,
     "metadata": {},
     "output_type": "execute_result"
    }
   ],
   "source": [
    "# CLASE VEHICULO\n",
    "\n",
    "df[\"CLASE VEHICULO\"].describe()"
   ]
  },
  {
   "cell_type": "code",
   "execution_count": 17,
   "metadata": {},
   "outputs": [
    {
     "data": {
      "text/plain": [
       "count    2.504100e+04\n",
       "mean     5.154443e+05\n",
       "std      8.874552e+05\n",
       "min     -2.760300e+04\n",
       "25%      3.447270e+05\n",
       "50%      4.140580e+05\n",
       "75%      6.894550e+05\n",
       "max      4.213440e+07\n",
       "Name: VALOR, dtype: float64"
      ]
     },
     "execution_count": 17,
     "metadata": {},
     "output_type": "execute_result"
    }
   ],
   "source": [
    "# VALOR\n",
    "df.VALOR.describe()"
   ]
  },
  {
   "cell_type": "code",
   "execution_count": 19,
   "metadata": {},
   "outputs": [
    {
     "data": {
      "text/plain": [
       "np.int64(25041)"
      ]
     },
     "execution_count": 19,
     "metadata": {},
     "output_type": "execute_result"
    }
   ],
   "source": [
    "# Conteo de VALOR\n",
    "df.VALOR.count()"
   ]
  },
  {
   "cell_type": "code",
   "execution_count": 20,
   "metadata": {},
   "outputs": [
    {
     "data": {
      "text/plain": [
       "np.float64(515444.3072614233)"
      ]
     },
     "execution_count": 20,
     "metadata": {},
     "output_type": "execute_result"
    }
   ],
   "source": [
    "# Promedio de VALOR \n",
    "df.VALOR.mean()"
   ]
  },
  {
   "cell_type": "code",
   "execution_count": 21,
   "metadata": {},
   "outputs": [
    {
     "data": {
      "text/plain": [
       "np.float64(887455.2155195383)"
      ]
     },
     "execution_count": 21,
     "metadata": {},
     "output_type": "execute_result"
    }
   ],
   "source": [
    "# Desviación Estándar de VALOR \n",
    "df.VALOR.std()"
   ]
  },
  {
   "cell_type": "code",
   "execution_count": 22,
   "metadata": {},
   "outputs": [
    {
     "data": {
      "text/plain": [
       "np.float64(-27603.0)"
      ]
     },
     "execution_count": 22,
     "metadata": {},
     "output_type": "execute_result"
    }
   ],
   "source": [
    "# Valor Mínimo de VALOR \n",
    "df.VALOR.min()"
   ]
  },
  {
   "cell_type": "code",
   "execution_count": 23,
   "metadata": {},
   "outputs": [
    {
     "data": {
      "text/plain": [
       "np.float64(42134400.0)"
      ]
     },
     "execution_count": 23,
     "metadata": {},
     "output_type": "execute_result"
    }
   ],
   "source": [
    "# Valor Máximo de VALOR \n",
    "df.VALOR.max()"
   ]
  },
  {
   "cell_type": "code",
   "execution_count": 24,
   "metadata": {},
   "outputs": [
    {
     "data": {
      "text/plain": [
       "np.float64(414058.0)"
      ]
     },
     "execution_count": 24,
     "metadata": {},
     "output_type": "execute_result"
    }
   ],
   "source": [
    "# Mediana de VALOR \n",
    "df.VALOR.median()"
   ]
  },
  {
   "cell_type": "code",
   "execution_count": 25,
   "metadata": {},
   "outputs": [
    {
     "data": {
      "text/plain": [
       "0    689455.0\n",
       "Name: VALOR, dtype: float64"
      ]
     },
     "execution_count": 25,
     "metadata": {},
     "output_type": "execute_result"
    }
   ],
   "source": [
    "# Moda de VALOR \n",
    "df.VALOR.mode()"
   ]
  },
  {
   "cell_type": "code",
   "execution_count": 26,
   "metadata": {},
   "outputs": [
    {
     "data": {
      "text/plain": [
       "np.float64(689455.0)"
      ]
     },
     "execution_count": 26,
     "metadata": {},
     "output_type": "execute_result"
    }
   ],
   "source": [
    "# Percentil 75% de VALOR \n",
    "df.VALOR.quantile(0.75)"
   ]
  },
  {
   "cell_type": "code",
   "execution_count": 32,
   "metadata": {},
   "outputs": [
    {
     "data": {
      "text/plain": [
       "array(['B02', 'C24', 'B01', 'C06', 'D01', 'I01', 'D06', 'C35', 'D13',\n",
       "       'C31', 'D02', 'C15', 'D03', 'C05', 'C14', 'D12', 'C11', 'B22',\n",
       "       'B03', 'C37', 'C38', 'C22', 'F', 'H02', 'D04', 'D07', 'D15', 'D08',\n",
       "       'C10', 'C03', 'B06', 'D16', 'C20', 'B10', 'B15', 'B07', 'B04',\n",
       "       'C21', 'C08', 'B05', 'C04', 'C02', 'C01', 'C23', 'C18', 'C39',\n",
       "       'C27', 'C16', 'E04', 'H13', 'B21', 'B14', 'C29', 'B11', 'B20',\n",
       "       'C28', 'C34', 'F09', 'D11', 'B16', 'H01', 'A03', 'C25', 'D14',\n",
       "       'B12', 'C19', nan], dtype=object)"
      ]
     },
     "execution_count": 32,
     "metadata": {},
     "output_type": "execute_result"
    }
   ],
   "source": [
    "# Obtenemos los valores unicos para la columna CODIGO INFRACCION\n",
    "df[\"CÓDIGO INFRACCIÓN\"].unique()"
   ]
  },
  {
   "cell_type": "code",
   "execution_count": 33,
   "metadata": {},
   "outputs": [
    {
     "data": {
      "text/plain": [
       "array(['SARDINATA-CUCUTA KM 58', 'VIA 7009 KM 72',\n",
       "       'OCAÑA SARDINATA KM 31 600', ..., 'VIA SARDINATA CUCUTA  KM 5 300',\n",
       "       'VIA SARDIANTA CUCUTA KM 58 300', nan], shape=(3396,), dtype=object)"
      ]
     },
     "execution_count": 33,
     "metadata": {},
     "output_type": "execute_result"
    }
   ],
   "source": [
    "# Mostramos los valores unicos para la columna LUGAR\n",
    "df.LUGAR.unique()"
   ]
  },
  {
   "cell_type": "code",
   "execution_count": 34,
   "metadata": {},
   "outputs": [
    {
     "data": {
      "text/plain": [
       "array(['AUTOMOVIL', 'MOTOCICLETA', 'CAMIONETA', 'T/CAMION', 'CAMPERO',\n",
       "       'CAMION', 'MICROBUS', 'BUSETA', 'VOLQUETA', 'BUS', 'DOBLE TROQU',\n",
       "       nan, 'MAQ. AGRICO', 'OTROS', 'DOBLE TROQUE', 'CAMION D.T.',\n",
       "       'MAQ. AGRICOLA'], dtype=object)"
      ]
     },
     "execution_count": 34,
     "metadata": {},
     "output_type": "execute_result"
    }
   ],
   "source": [
    "# Mostramos los valores unicos para la columna CLASE VEHICULO\n",
    "df[\"CLASE VEHICULO\"].unique()"
   ]
  }
 ],
 "metadata": {
  "kernelspec": {
   "display_name": "Python 3",
   "language": "python",
   "name": "python3"
  },
  "language_info": {
   "codemirror_mode": {
    "name": "ipython",
    "version": 3
   },
   "file_extension": ".py",
   "mimetype": "text/x-python",
   "name": "python",
   "nbconvert_exporter": "python",
   "pygments_lexer": "ipython3",
   "version": "3.13.2"
  }
 },
 "nbformat": 4,
 "nbformat_minor": 2
}
