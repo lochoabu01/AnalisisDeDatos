{
 "cells": [
  {
   "cell_type": "code",
   "execution_count": 1,
   "metadata": {},
   "outputs": [],
   "source": [
    "# Tema: Comparendos Norte de Santander 2016 - 2020\n",
    "# Grupo 1: Angie Moreno/202110008171 - Diego Vargas/202110047171 - Luis Ochoa/202519024507\n",
    "\n",
    "# Importamos la libreria Pandas\n",
    "import pandas as pd"
   ]
  },
  {
   "cell_type": "code",
   "execution_count": 2,
   "metadata": {},
   "outputs": [],
   "source": [
    "# Cargamos el CSV a un DataFrame (df)\n",
    "df = pd.read_csv(\"ComparendosNorteSantanderSource.csv\")"
   ]
  },
  {
   "cell_type": "code",
   "execution_count": 3,
   "metadata": {},
   "outputs": [
    {
     "data": {
      "text/plain": [
       "(25042, 7)"
      ]
     },
     "execution_count": 3,
     "metadata": {},
     "output_type": "execute_result"
    }
   ],
   "source": [
    "# Retornamos una tupla con las dimensiones de nuestro DataFrame.\n",
    "# (cantidad de filas incluyendo encabezados, cantidad de columnas)\n",
    "df.shape"
   ]
  },
  {
   "cell_type": "code",
   "execution_count": 4,
   "metadata": {},
   "outputs": [
    {
     "name": "stdout",
     "output_type": "stream",
     "text": [
      "<class 'pandas.core.frame.DataFrame'>\n",
      "RangeIndex: 25042 entries, 0 to 25041\n",
      "Data columns (total 7 columns):\n",
      " #   Column             Non-Null Count  Dtype  \n",
      "---  ------             --------------  -----  \n",
      " 0   COMPARENDO         25042 non-null  object \n",
      " 1   FECHA              25041 non-null  object \n",
      " 2   CÓDIGO INFRACCIÓN  25041 non-null  object \n",
      " 3   INFRACCION         25041 non-null  object \n",
      " 4   LUGAR              25041 non-null  object \n",
      " 5   CLASE VEHICULO     25031 non-null  object \n",
      " 6   VALOR              25041 non-null  float64\n",
      "dtypes: float64(1), object(6)\n",
      "memory usage: 1.3+ MB\n"
     ]
    }
   ],
   "source": [
    "# Mostramos la informacion de nuestro DataFrame\n",
    "df.info()"
   ]
  },
  {
   "cell_type": "code",
   "execution_count": 5,
   "metadata": {},
   "outputs": [],
   "source": [
    "# Eliminamos las columnas que no son necesarias para el analisis\n",
    "# Guardando el resultado en un nuevo DataFrame llamado df_cleaned\n",
    "df_cleaned = df.drop(columns=[\"COMPARENDO\"])"
   ]
  },
  {
   "cell_type": "code",
   "execution_count": 6,
   "metadata": {},
   "outputs": [
    {
     "name": "stdout",
     "output_type": "stream",
     "text": [
      "<class 'pandas.core.frame.DataFrame'>\n",
      "RangeIndex: 25042 entries, 0 to 25041\n",
      "Data columns (total 6 columns):\n",
      " #   Column             Non-Null Count  Dtype  \n",
      "---  ------             --------------  -----  \n",
      " 0   FECHA              25041 non-null  object \n",
      " 1   CÓDIGO INFRACCIÓN  25041 non-null  object \n",
      " 2   INFRACCION         25041 non-null  object \n",
      " 3   LUGAR              25041 non-null  object \n",
      " 4   CLASE VEHICULO     25031 non-null  object \n",
      " 5   VALOR              25041 non-null  float64\n",
      "dtypes: float64(1), object(5)\n",
      "memory usage: 1.1+ MB\n"
     ]
    }
   ],
   "source": [
    "# Mostar las columnas del nuevo DataFrame\n",
    "df_cleaned.info()"
   ]
  },
  {
   "cell_type": "code",
   "execution_count": 7,
   "metadata": {},
   "outputs": [
    {
     "name": "stdout",
     "output_type": "stream",
     "text": [
      "<class 'pandas.core.frame.DataFrame'>\n",
      "RangeIndex: 25042 entries, 0 to 25041\n",
      "Data columns (total 6 columns):\n",
      " #   Column             Non-Null Count  Dtype  \n",
      "---  ------             --------------  -----  \n",
      " 0   FECHA              25041 non-null  object \n",
      " 1   CODIGO_INFRACCION  25041 non-null  object \n",
      " 2   INFRACCION         25041 non-null  object \n",
      " 3   LUGAR              25041 non-null  object \n",
      " 4   CLASE_VEHICULO     25031 non-null  object \n",
      " 5   VALOR              25041 non-null  float64\n",
      "dtypes: float64(1), object(5)\n",
      "memory usage: 1.1+ MB\n"
     ]
    }
   ],
   "source": [
    "# Renombramos las columnas del nuevo DataFrame, especificamos inplace = true para realizar los cambios directamente en df_cleaned\n",
    "\n",
    "# CÓDIGO INFRACCIÓN\n",
    "df_cleaned.rename(columns={'CÓDIGO INFRACCIÓN': 'CODIGO_INFRACCION'}, inplace=True)\n",
    "\n",
    "# CLASE VEHICULO\n",
    "df_cleaned.rename(columns={'CLASE VEHICULO': 'CLASE_VEHICULO'}, inplace=True)\n",
    "\n",
    "# Mostramos las columnas de nuestro DataFrame, las cuales deben tener los cambios realizados\n",
    "df_cleaned.info()"
   ]
  },
  {
   "cell_type": "code",
   "execution_count": 8,
   "metadata": {},
   "outputs": [],
   "source": [
    "# Eliminamos filas con valores nulos\n",
    "df_cleaned = df_cleaned.dropna()"
   ]
  },
  {
   "cell_type": "code",
   "execution_count": 9,
   "metadata": {},
   "outputs": [
    {
     "data": {
      "text/plain": [
       "(25042, 7)"
      ]
     },
     "execution_count": 9,
     "metadata": {},
     "output_type": "execute_result"
    }
   ],
   "source": [
    "# Retornamos una tupla con las dimensiones de nuestro nuevo DataFrame, despues de eliminar nulos.\n",
    "# (cantidad de filas incluyendo encabezados, cantidad de columnas)\n",
    "df.shape"
   ]
  },
  {
   "cell_type": "code",
   "execution_count": 10,
   "metadata": {},
   "outputs": [
    {
     "data": {
      "text/plain": [
       "11"
      ]
     },
     "execution_count": 10,
     "metadata": {},
     "output_type": "execute_result"
    }
   ],
   "source": [
    "# Obtenemos el numero de filas eliminadas\n",
    "rows_before = df.shape[0]\n",
    "rows_after = df_cleaned.shape[0]\n",
    "\n",
    "rows_before - rows_after"
   ]
  },
  {
   "cell_type": "code",
   "execution_count": 12,
   "metadata": {},
   "outputs": [
    {
     "name": "stdout",
     "output_type": "stream",
     "text": [
      "<class 'pandas.core.frame.DataFrame'>\n",
      "Index: 25031 entries, 0 to 25040\n",
      "Data columns (total 6 columns):\n",
      " #   Column             Non-Null Count  Dtype  \n",
      "---  ------             --------------  -----  \n",
      " 0   FECHA              25031 non-null  object \n",
      " 1   CODIGO_INFRACCION  25031 non-null  object \n",
      " 2   INFRACCION         25031 non-null  object \n",
      " 3   LUGAR              25031 non-null  object \n",
      " 4   CLASE_VEHICULO     25031 non-null  object \n",
      " 5   VALOR              25031 non-null  float64\n",
      "dtypes: float64(1), object(5)\n",
      "memory usage: 1.3+ MB\n"
     ]
    }
   ],
   "source": [
    "# Mostramos la informacion de nuestro DataFrame df_cleaned\n",
    "df_cleaned.info()"
   ]
  },
  {
   "cell_type": "code",
   "execution_count": 18,
   "metadata": {},
   "outputs": [
    {
     "name": "stdout",
     "output_type": "stream",
     "text": [
      "<class 'pandas.core.frame.DataFrame'>\n",
      "Index: 25031 entries, 0 to 25040\n",
      "Data columns (total 6 columns):\n",
      " #   Column             Non-Null Count  Dtype         \n",
      "---  ------             --------------  -----         \n",
      " 0   FECHA              25031 non-null  datetime64[ns]\n",
      " 1   CODIGO_INFRACCION  25031 non-null  string        \n",
      " 2   INFRACCION         25031 non-null  string        \n",
      " 3   LUGAR              25031 non-null  string        \n",
      " 4   CLASE_VEHICULO     25031 non-null  string        \n",
      " 5   VALOR              25031 non-null  float64       \n",
      "dtypes: datetime64[ns](1), float64(1), string(4)\n",
      "memory usage: 1.3 MB\n"
     ]
    }
   ],
   "source": [
    "# Ajustamos los tipos de dato\n",
    "\n",
    "df_cleaned['CODIGO_INFRACCION'] = df_cleaned['CODIGO_INFRACCION'].astype('string')\n",
    "df_cleaned['INFRACCION'] = df_cleaned['INFRACCION'].astype('string')\n",
    "df_cleaned['LUGAR'] = df_cleaned['LUGAR'].astype('string')\n",
    "df_cleaned['CLASE_VEHICULO'] = df_cleaned['CLASE_VEHICULO'].astype('string')\n",
    "df_cleaned['VALOR'] = df_cleaned['VALOR'].astype('float')\n",
    "\n",
    "# Mostramos la informacion de nuestro DataFrame df_cleaned\n",
    "df_cleaned.info()"
   ]
  },
  {
   "cell_type": "code",
   "execution_count": 19,
   "metadata": {},
   "outputs": [],
   "source": [
    "# Establecemos el formato y estructura dia/mes/año, para la columna FECHA\n",
    "df_cleaned['FECHA'] = pd.to_datetime(df_cleaned['FECHA'], format='%d-%m-%Y')"
   ]
  },
  {
   "cell_type": "code",
   "execution_count": 20,
   "metadata": {},
   "outputs": [
    {
     "name": "stdout",
     "output_type": "stream",
     "text": [
      "<class 'pandas.core.frame.DataFrame'>\n",
      "Index: 25031 entries, 0 to 25040\n",
      "Data columns (total 6 columns):\n",
      " #   Column             Non-Null Count  Dtype         \n",
      "---  ------             --------------  -----         \n",
      " 0   FECHA              25031 non-null  datetime64[ns]\n",
      " 1   CODIGO_INFRACCION  25031 non-null  string        \n",
      " 2   INFRACCION         25031 non-null  string        \n",
      " 3   LUGAR              25031 non-null  string        \n",
      " 4   CLASE_VEHICULO     25031 non-null  string        \n",
      " 5   VALOR              25031 non-null  float64       \n",
      "dtypes: datetime64[ns](1), float64(1), string(4)\n",
      "memory usage: 1.3 MB\n"
     ]
    }
   ],
   "source": [
    "# Mostramos la informacion de nuestro DataFrame df_cleaned\n",
    "df_cleaned.info()"
   ]
  },
  {
   "cell_type": "code",
   "execution_count": 21,
   "metadata": {},
   "outputs": [],
   "source": [
    "# Eliminamos las filas que tienen valores nulos en la columna FECHA\n",
    "df_cleaned.dropna(subset=[\"FECHA\"], inplace = True)"
   ]
  },
  {
   "cell_type": "code",
   "execution_count": 22,
   "metadata": {},
   "outputs": [
    {
     "data": {
      "text/plain": [
       "count                            25031\n",
       "mean     2018-05-21 06:23:42.971515648\n",
       "min                2016-01-01 00:00:00\n",
       "25%                2016-09-29 00:00:00\n",
       "50%                2018-07-08 00:00:00\n",
       "75%                2019-08-25 00:00:00\n",
       "max                2020-12-14 00:00:00\n",
       "Name: FECHA, dtype: object"
      ]
     },
     "execution_count": 22,
     "metadata": {},
     "output_type": "execute_result"
    }
   ],
   "source": [
    "# Validar si hay registros en la columna FECHA con formatos incorrectos\n",
    "df_cleaned.FECHA.describe()"
   ]
  },
  {
   "cell_type": "code",
   "execution_count": 28,
   "metadata": {},
   "outputs": [
    {
     "data": {
      "text/plain": [
       "['AUTOMOVIL',\n",
       " 'BUS',\n",
       " 'BUSETA',\n",
       " 'CAMION',\n",
       " 'CAMION D.T.',\n",
       " 'CAMIONETA',\n",
       " 'CAMPERO',\n",
       " 'DOBLE TROQU',\n",
       " 'DOBLE TROQUE',\n",
       " 'MAQ. AGRICO',\n",
       " 'MAQ. AGRICOLA',\n",
       " 'MICROBUS',\n",
       " 'MOTOCICLETA',\n",
       " 'OTROS',\n",
       " 'T/CAMION',\n",
       " 'VOLQUETA']"
      ]
     },
     "execution_count": 28,
     "metadata": {},
     "output_type": "execute_result"
    }
   ],
   "source": [
    "# Mostramos los valores unicos para CLASE_VEHICULO, ordenado alfabeticamente\n",
    "sorted(df_cleaned.CLASE_VEHICULO.unique())"
   ]
  },
  {
   "cell_type": "code",
   "execution_count": 29,
   "metadata": {},
   "outputs": [],
   "source": [
    "# Reemplazar \"DOBLE TROQU\" por \"DOBLE TROQUE\" en la columna CLASE_VEHICULO\n",
    "df_cleaned.CLASE_VEHICULO = df_cleaned.CLASE_VEHICULO.replace(\"DOBLE TROQU\", \"DOBLE TROQUE\")\n",
    "\n",
    "# Reemplazar \"MAQ. AGRICO\" por \"MAQ. AGRICOLA\" en la columna CLASE_VEHICULO\n",
    "df_cleaned.CLASE_VEHICULO = df_cleaned.CLASE_VEHICULO.replace(\"MAQ. AGRICO\", \"MAQ. AGRICOLA\")"
   ]
  },
  {
   "cell_type": "code",
   "execution_count": 30,
   "metadata": {},
   "outputs": [
    {
     "data": {
      "text/plain": [
       "['AUTOMOVIL',\n",
       " 'BUS',\n",
       " 'BUSETA',\n",
       " 'CAMION',\n",
       " 'CAMION D.T.',\n",
       " 'CAMIONETA',\n",
       " 'CAMPERO',\n",
       " 'DOBLE TROQUE',\n",
       " 'MAQ. AGRICOLA',\n",
       " 'MICROBUS',\n",
       " 'MOTOCICLETA',\n",
       " 'OTROS',\n",
       " 'T/CAMION',\n",
       " 'VOLQUETA']"
      ]
     },
     "execution_count": 30,
     "metadata": {},
     "output_type": "execute_result"
    }
   ],
   "source": [
    "# Validamos los cambios realizados para CLASE_VEHICULO, ordenado alfabeticamente\n",
    "sorted(df_cleaned.CLASE_VEHICULO.unique())"
   ]
  },
  {
   "cell_type": "code",
   "execution_count": 31,
   "metadata": {},
   "outputs": [],
   "source": [
    "# Eliminamos los duplicados en nuestro DataFrame df_cleaned\n",
    "# (subset,keep,inplace)\n",
    "# 1. columna a validar duplicados \"None\" para todas la columnas\n",
    "# 2. \"first \"tomar el primer valor y elimnar el resto de los duplicados\n",
    "# 3. \"true\" aplicar los cambios directamente en df_cleaned)\n",
    "\n",
    "df_cleaned.drop_duplicates(subset=None, keep='first', inplace=True)"
   ]
  },
  {
   "cell_type": "code",
   "execution_count": 32,
   "metadata": {},
   "outputs": [
    {
     "data": {
      "text/plain": [
       "(25042, 7)"
      ]
     },
     "execution_count": 32,
     "metadata": {},
     "output_type": "execute_result"
    }
   ],
   "source": [
    "# Retornamos una tupla con las dimensiones de nuestro DataFrame df_cleaned.\n",
    "# (cantidad de filas incluyendo encabezados, cantidad de columnas)\n",
    "df.shape"
   ]
  },
  {
   "cell_type": "code",
   "execution_count": 33,
   "metadata": {},
   "outputs": [
    {
     "name": "stdout",
     "output_type": "stream",
     "text": [
      "<class 'pandas.core.frame.DataFrame'>\n",
      "RangeIndex: 25042 entries, 0 to 25041\n",
      "Data columns (total 7 columns):\n",
      " #   Column             Non-Null Count  Dtype  \n",
      "---  ------             --------------  -----  \n",
      " 0   COMPARENDO         25042 non-null  object \n",
      " 1   FECHA              25041 non-null  object \n",
      " 2   CÓDIGO INFRACCIÓN  25041 non-null  object \n",
      " 3   INFRACCION         25041 non-null  object \n",
      " 4   LUGAR              25041 non-null  object \n",
      " 5   CLASE VEHICULO     25031 non-null  object \n",
      " 6   VALOR              25041 non-null  float64\n",
      "dtypes: float64(1), object(6)\n",
      "memory usage: 1.3+ MB\n"
     ]
    }
   ],
   "source": [
    "# Mostramos la informacion de nuestro DataFrame\n",
    "df.info()"
   ]
  },
  {
   "cell_type": "code",
   "execution_count": 34,
   "metadata": {},
   "outputs": [
    {
     "name": "stdout",
     "output_type": "stream",
     "text": [
      "\n",
      "El archivo CSV ha sido guardado.\n"
     ]
    }
   ],
   "source": [
    "# Guardamos el DataFrame limpio \"df_cleaned\" en un archivo CSV\n",
    "# Se establece la propiedad index=False para no guardar los índices como una columna\n",
    "df_cleaned.to_csv(\"ComparendosNorteSantanderSource_clean.csv\", index=False)\n",
    "\n",
    "print(\"\\nEl archivo CSV ha sido guardado.\")"
   ]
  }
 ],
 "metadata": {
  "kernelspec": {
   "display_name": "Python 3",
   "language": "python",
   "name": "python3"
  },
  "language_info": {
   "codemirror_mode": {
    "name": "ipython",
    "version": 3
   },
   "file_extension": ".py",
   "mimetype": "text/x-python",
   "name": "python",
   "nbconvert_exporter": "python",
   "pygments_lexer": "ipython3",
   "version": "3.13.2"
  }
 },
 "nbformat": 4,
 "nbformat_minor": 2
}
